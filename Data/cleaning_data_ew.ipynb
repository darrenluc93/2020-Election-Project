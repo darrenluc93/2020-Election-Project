{
  "nbformat": 4,
  "nbformat_minor": 0,
  "metadata": {
    "kernelspec": {
      "display_name": "Python 3",
      "language": "python",
      "name": "python3"
    },
    "language_info": {
      "codemirror_mode": {
        "name": "ipython",
        "version": 3
      },
      "file_extension": ".py",
      "mimetype": "text/x-python",
      "name": "python",
      "nbconvert_exporter": "python",
      "pygments_lexer": "ipython3",
      "version": "3.7.6"
    },
    "colab": {
      "name": "cleaning-data-ew.ipynb",
      "provenance": []
    }
  },
  "cells": [
    {
      "cell_type": "markdown",
      "metadata": {
        "id": "gUjNEvnKp0GW"
      },
      "source": [
        "### Import Dependencies\n"
      ]
    },
    {
      "cell_type": "code",
      "metadata": {
        "id": "HQc5hj3ip0GX"
      },
      "source": [
        "import pandas as pd\n",
        "import numpy as np\n",
        "import json\n",
        "import sqlalchemy\n",
        "from sqlalchemy.ext.automap import automap_base\n",
        "from sqlalchemy.orm import Session\n",
        "from sqlalchemy import create_engine, func, inspect, desc\n",
        "import sqlite3\n",
        "import requests\n",
        "import lxml.html as lh\n",
        "from lxml.etree import tostring"
      ],
      "execution_count": null,
      "outputs": []
    },
    {
      "cell_type": "markdown",
      "metadata": {
        "id": "UFT6mSFhp0Ge"
      },
      "source": [
        "### Connect to Database"
      ]
    },
    {
      "cell_type": "code",
      "metadata": {
        "id": "gnEQAbeRp0Gf"
      },
      "source": [
        "engine = create_engine(\"sqlite:///Election2020Data_ew.sqlite\")\n",
        "conn = engine.connect()"
      ],
      "execution_count": null,
      "outputs": []
    },
    {
      "cell_type": "code",
      "metadata": {
        "id": "taIUfg2mp0Gj"
      },
      "source": [
        "# master_data = pd.read_sql_table('2020Donors', conn)\n",
        "# master_data.head()"
      ],
      "execution_count": null,
      "outputs": []
    },
    {
      "cell_type": "markdown",
      "metadata": {
        "id": "2JzWbfpYp0Go"
      },
      "source": [
        "### Divide Data Into Chunks"
      ]
    },
    {
      "cell_type": "code",
      "metadata": {
        "id": "vpKS_Pvap0Go"
      },
      "source": [
        "dataFrames = []\n",
        "for chunks in pd.read_sql_table('2020Donors', conn, chunksize = 1000000, index_col = \"Record_id\", columns=[\"Flag_Orgind\",\"First_Name\",\"City\", \"State\", \"Zip\", \"Occupation\",\"Amount\",\"Date\",\"Aggregate_Amount\",\"Cycle\",\"Campaign\"]):\n",
        "    dataFrames.append(chunks)"
      ],
      "execution_count": null,
      "outputs": []
    },
    {
      "cell_type": "markdown",
      "metadata": {
        "id": "DeVDjJk-p0Gr"
      },
      "source": [
        "### Display Single Chunk"
      ]
    },
    {
      "cell_type": "code",
      "metadata": {
        "scrolled": true,
        "id": "EFAhuBGWp0Gs",
        "outputId": "f69177f3-642a-4be5-9e57-63f92f68d610"
      },
      "source": [
        "dataFrames[0]"
      ],
      "execution_count": null,
      "outputs": [
        {
          "output_type": "execute_result",
          "data": {
            "text/html": [
              "<div>\n",
              "<style scoped>\n",
              "    .dataframe tbody tr th:only-of-type {\n",
              "        vertical-align: middle;\n",
              "    }\n",
              "\n",
              "    .dataframe tbody tr th {\n",
              "        vertical-align: top;\n",
              "    }\n",
              "\n",
              "    .dataframe thead th {\n",
              "        text-align: right;\n",
              "    }\n",
              "</style>\n",
              "<table border=\"1\" class=\"dataframe\">\n",
              "  <thead>\n",
              "    <tr style=\"text-align: right;\">\n",
              "      <th></th>\n",
              "      <th>Flag_Orgind</th>\n",
              "      <th>First_Name</th>\n",
              "      <th>City</th>\n",
              "      <th>State</th>\n",
              "      <th>Zip</th>\n",
              "      <th>Occupation</th>\n",
              "      <th>Amount</th>\n",
              "      <th>Date</th>\n",
              "      <th>Aggregate_Amount</th>\n",
              "      <th>Cycle</th>\n",
              "      <th>Campaign</th>\n",
              "    </tr>\n",
              "    <tr>\n",
              "      <th>Record_id</th>\n",
              "      <th></th>\n",
              "      <th></th>\n",
              "      <th></th>\n",
              "      <th></th>\n",
              "      <th></th>\n",
              "      <th></th>\n",
              "      <th></th>\n",
              "      <th></th>\n",
              "      <th></th>\n",
              "      <th></th>\n",
              "      <th></th>\n",
              "    </tr>\n",
              "  </thead>\n",
              "  <tbody>\n",
              "    <tr>\n",
              "      <th>1</th>\n",
              "      <td>IND</td>\n",
              "      <td>Russell</td>\n",
              "      <td>Birmingham</td>\n",
              "      <td>AL</td>\n",
              "      <td>35205</td>\n",
              "      <td>Retired</td>\n",
              "      <td>250.0</td>\n",
              "      <td>2019-03-31</td>\n",
              "      <td>250.00</td>\n",
              "      <td>2020</td>\n",
              "      <td>Kamala Harris For The People</td>\n",
              "    </tr>\n",
              "    <tr>\n",
              "      <th>2</th>\n",
              "      <td>IND</td>\n",
              "      <td>Cody</td>\n",
              "      <td>Mobile</td>\n",
              "      <td>AL</td>\n",
              "      <td>36695</td>\n",
              "      <td>Clerk</td>\n",
              "      <td>100.0</td>\n",
              "      <td>2019-03-31</td>\n",
              "      <td>250.00</td>\n",
              "      <td>2020</td>\n",
              "      <td>Kamala Harris For The People</td>\n",
              "    </tr>\n",
              "    <tr>\n",
              "      <th>3</th>\n",
              "      <td>IND</td>\n",
              "      <td>Frank</td>\n",
              "      <td>Mountain Brk</td>\n",
              "      <td>AL</td>\n",
              "      <td>35213</td>\n",
              "      <td>Retired</td>\n",
              "      <td>500.0</td>\n",
              "      <td>2019-03-31</td>\n",
              "      <td>500.00</td>\n",
              "      <td>2020</td>\n",
              "      <td>Kamala Harris For The People</td>\n",
              "    </tr>\n",
              "    <tr>\n",
              "      <th>4</th>\n",
              "      <td>IND</td>\n",
              "      <td>Henry</td>\n",
              "      <td>Birmingham</td>\n",
              "      <td>AL</td>\n",
              "      <td>35242</td>\n",
              "      <td>PT Consultant</td>\n",
              "      <td>25.0</td>\n",
              "      <td>2019-03-30</td>\n",
              "      <td>297.84</td>\n",
              "      <td>2020</td>\n",
              "      <td>Kamala Harris For The People</td>\n",
              "    </tr>\n",
              "    <tr>\n",
              "      <th>5</th>\n",
              "      <td>IND</td>\n",
              "      <td>Henry</td>\n",
              "      <td>Birmingham</td>\n",
              "      <td>AL</td>\n",
              "      <td>35242</td>\n",
              "      <td>PT Consultant</td>\n",
              "      <td>25.0</td>\n",
              "      <td>2019-03-28</td>\n",
              "      <td>297.84</td>\n",
              "      <td>2020</td>\n",
              "      <td>Kamala Harris For The People</td>\n",
              "    </tr>\n",
              "    <tr>\n",
              "      <th>...</th>\n",
              "      <td>...</td>\n",
              "      <td>...</td>\n",
              "      <td>...</td>\n",
              "      <td>...</td>\n",
              "      <td>...</td>\n",
              "      <td>...</td>\n",
              "      <td>...</td>\n",
              "      <td>...</td>\n",
              "      <td>...</td>\n",
              "      <td>...</td>\n",
              "      <td>...</td>\n",
              "    </tr>\n",
              "    <tr>\n",
              "      <th>999996</th>\n",
              "      <td>IND</td>\n",
              "      <td>Catherine</td>\n",
              "      <td>Pasadena</td>\n",
              "      <td>CA</td>\n",
              "      <td>91104</td>\n",
              "      <td>Teacher</td>\n",
              "      <td>100.0</td>\n",
              "      <td>2019-11-04</td>\n",
              "      <td>240.05</td>\n",
              "      <td>2020</td>\n",
              "      <td>Warren For President, Inc.</td>\n",
              "    </tr>\n",
              "    <tr>\n",
              "      <th>999997</th>\n",
              "      <td>IND</td>\n",
              "      <td>Laura</td>\n",
              "      <td>San Francisco</td>\n",
              "      <td>CA</td>\n",
              "      <td>94158</td>\n",
              "      <td>Product Manager</td>\n",
              "      <td>100.0</td>\n",
              "      <td>2019-10-15</td>\n",
              "      <td>300.00</td>\n",
              "      <td>2020</td>\n",
              "      <td>Warren For President, Inc.</td>\n",
              "    </tr>\n",
              "    <tr>\n",
              "      <th>999998</th>\n",
              "      <td>IND</td>\n",
              "      <td>Laura</td>\n",
              "      <td>San Francisco</td>\n",
              "      <td>CA</td>\n",
              "      <td>94158</td>\n",
              "      <td>Product Manager</td>\n",
              "      <td>100.0</td>\n",
              "      <td>2019-12-31</td>\n",
              "      <td>300.00</td>\n",
              "      <td>2020</td>\n",
              "      <td>Warren For President, Inc.</td>\n",
              "    </tr>\n",
              "    <tr>\n",
              "      <th>999999</th>\n",
              "      <td>IND</td>\n",
              "      <td>Marie</td>\n",
              "      <td>Sacramento</td>\n",
              "      <td>CA</td>\n",
              "      <td>95831</td>\n",
              "      <td>Education Administration</td>\n",
              "      <td>50.0</td>\n",
              "      <td>2019-10-27</td>\n",
              "      <td>460.00</td>\n",
              "      <td>2020</td>\n",
              "      <td>Warren For President, Inc.</td>\n",
              "    </tr>\n",
              "    <tr>\n",
              "      <th>1000000</th>\n",
              "      <td>IND</td>\n",
              "      <td>Marie</td>\n",
              "      <td>Sacramento</td>\n",
              "      <td>CA</td>\n",
              "      <td>95831</td>\n",
              "      <td>Education Administration</td>\n",
              "      <td>50.0</td>\n",
              "      <td>2019-11-21</td>\n",
              "      <td>460.00</td>\n",
              "      <td>2020</td>\n",
              "      <td>Warren For President, Inc.</td>\n",
              "    </tr>\n",
              "  </tbody>\n",
              "</table>\n",
              "<p>1000000 rows × 11 columns</p>\n",
              "</div>"
            ],
            "text/plain": [
              "          Flag_Orgind First_Name           City State    Zip  \\\n",
              "Record_id                                                      \n",
              "1                 IND    Russell     Birmingham    AL  35205   \n",
              "2                 IND       Cody         Mobile    AL  36695   \n",
              "3                 IND      Frank   Mountain Brk    AL  35213   \n",
              "4                 IND      Henry     Birmingham    AL  35242   \n",
              "5                 IND      Henry     Birmingham    AL  35242   \n",
              "...               ...        ...            ...   ...    ...   \n",
              "999996            IND  Catherine       Pasadena    CA  91104   \n",
              "999997            IND      Laura  San Francisco    CA  94158   \n",
              "999998            IND      Laura  San Francisco    CA  94158   \n",
              "999999            IND      Marie     Sacramento    CA  95831   \n",
              "1000000           IND      Marie     Sacramento    CA  95831   \n",
              "\n",
              "                         Occupation  Amount       Date  Aggregate_Amount  \\\n",
              "Record_id                                                                  \n",
              "1                           Retired   250.0 2019-03-31            250.00   \n",
              "2                             Clerk   100.0 2019-03-31            250.00   \n",
              "3                           Retired   500.0 2019-03-31            500.00   \n",
              "4                     PT Consultant    25.0 2019-03-30            297.84   \n",
              "5                     PT Consultant    25.0 2019-03-28            297.84   \n",
              "...                             ...     ...        ...               ...   \n",
              "999996                      Teacher   100.0 2019-11-04            240.05   \n",
              "999997              Product Manager   100.0 2019-10-15            300.00   \n",
              "999998              Product Manager   100.0 2019-12-31            300.00   \n",
              "999999     Education Administration    50.0 2019-10-27            460.00   \n",
              "1000000    Education Administration    50.0 2019-11-21            460.00   \n",
              "\n",
              "           Cycle                      Campaign  \n",
              "Record_id                                       \n",
              "1           2020  Kamala Harris For The People  \n",
              "2           2020  Kamala Harris For The People  \n",
              "3           2020  Kamala Harris For The People  \n",
              "4           2020  Kamala Harris For The People  \n",
              "5           2020  Kamala Harris For The People  \n",
              "...          ...                           ...  \n",
              "999996      2020    Warren For President, Inc.  \n",
              "999997      2020    Warren For President, Inc.  \n",
              "999998      2020    Warren For President, Inc.  \n",
              "999999      2020    Warren For President, Inc.  \n",
              "1000000     2020    Warren For President, Inc.  \n",
              "\n",
              "[1000000 rows x 11 columns]"
            ]
          },
          "metadata": {
            "tags": []
          },
          "execution_count": 5
        }
      ]
    },
    {
      "cell_type": "markdown",
      "metadata": {
        "id": "XxciaqmBp0G0"
      },
      "source": [
        "### Display Datatypes"
      ]
    },
    {
      "cell_type": "code",
      "metadata": {
        "id": "sA311ualp0G0",
        "outputId": "208ea057-418a-4ad9-c9d6-daef4113dd87"
      },
      "source": [
        "dataFrames[0].dtypes"
      ],
      "execution_count": null,
      "outputs": [
        {
          "output_type": "execute_result",
          "data": {
            "text/plain": [
              "Flag_Orgind                 object\n",
              "First_Name                  object\n",
              "City                        object\n",
              "State                       object\n",
              "Zip                         object\n",
              "Occupation                  object\n",
              "Amount                     float64\n",
              "Date                datetime64[ns]\n",
              "Aggregate_Amount           float64\n",
              "Cycle                        int64\n",
              "Campaign                    object\n",
              "dtype: object"
            ]
          },
          "metadata": {
            "tags": []
          },
          "execution_count": 8
        }
      ]
    },
    {
      "cell_type": "markdown",
      "metadata": {
        "id": "c8q_6lxnp0G4"
      },
      "source": [
        "### Clean Occupation Data and Display Single Chunk"
      ]
    },
    {
      "cell_type": "code",
      "metadata": {
        "scrolled": false,
        "id": "NEp8koS2p0G4",
        "outputId": "c4c3e0f7-cac5-4984-824f-9db3ae125c72"
      },
      "source": [
        "for dataframe in dataFrames:\n",
        "    dataframe[\"Occupation\"]= dataframe[\"Occupation\"].str.lower()\n",
        "    dataframe[\"Occupation\"]= dataframe[\"Occupation\"].str.replace('notemployed','unemployed')\n",
        "    dataframe[\"Occupation\"]= dataframe[\"Occupation\"].str.replace('un employed','unemployed')\n",
        "    dataframe[\"Occupation\"]= dataframe[\"Occupation\"].str.replace('self employed','owner')\n",
        "    dataframe[\"Occupation\"]= dataframe[\"Occupation\"].str.replace('None','none')\n",
        "    dataframe[\"Occupation\"]= dataframe[\"Occupation\"].str.replace('selfemployed','owner')\n",
        "    dataframe[\"Occupation\"]= dataframe[\"Occupation\"].str.replace('not employed','unemployed')\n",
        "dataFrames[0]"
      ],
      "execution_count": null,
      "outputs": [
        {
          "output_type": "execute_result",
          "data": {
            "text/html": [
              "<div>\n",
              "<style scoped>\n",
              "    .dataframe tbody tr th:only-of-type {\n",
              "        vertical-align: middle;\n",
              "    }\n",
              "\n",
              "    .dataframe tbody tr th {\n",
              "        vertical-align: top;\n",
              "    }\n",
              "\n",
              "    .dataframe thead th {\n",
              "        text-align: right;\n",
              "    }\n",
              "</style>\n",
              "<table border=\"1\" class=\"dataframe\">\n",
              "  <thead>\n",
              "    <tr style=\"text-align: right;\">\n",
              "      <th></th>\n",
              "      <th>Flag_Orgind</th>\n",
              "      <th>First_Name</th>\n",
              "      <th>City</th>\n",
              "      <th>State</th>\n",
              "      <th>Zip</th>\n",
              "      <th>Occupation</th>\n",
              "      <th>Amount</th>\n",
              "      <th>Date</th>\n",
              "      <th>Aggregate_Amount</th>\n",
              "      <th>Cycle</th>\n",
              "      <th>Campaign</th>\n",
              "    </tr>\n",
              "    <tr>\n",
              "      <th>Record_id</th>\n",
              "      <th></th>\n",
              "      <th></th>\n",
              "      <th></th>\n",
              "      <th></th>\n",
              "      <th></th>\n",
              "      <th></th>\n",
              "      <th></th>\n",
              "      <th></th>\n",
              "      <th></th>\n",
              "      <th></th>\n",
              "      <th></th>\n",
              "    </tr>\n",
              "  </thead>\n",
              "  <tbody>\n",
              "    <tr>\n",
              "      <th>1</th>\n",
              "      <td>IND</td>\n",
              "      <td>Russell</td>\n",
              "      <td>Birmingham</td>\n",
              "      <td>AL</td>\n",
              "      <td>35205</td>\n",
              "      <td>retired</td>\n",
              "      <td>250.0</td>\n",
              "      <td>2019-03-31</td>\n",
              "      <td>250.00</td>\n",
              "      <td>2020</td>\n",
              "      <td>Kamala Harris For The People</td>\n",
              "    </tr>\n",
              "    <tr>\n",
              "      <th>2</th>\n",
              "      <td>IND</td>\n",
              "      <td>Cody</td>\n",
              "      <td>Mobile</td>\n",
              "      <td>AL</td>\n",
              "      <td>36695</td>\n",
              "      <td>clerk</td>\n",
              "      <td>100.0</td>\n",
              "      <td>2019-03-31</td>\n",
              "      <td>250.00</td>\n",
              "      <td>2020</td>\n",
              "      <td>Kamala Harris For The People</td>\n",
              "    </tr>\n",
              "    <tr>\n",
              "      <th>3</th>\n",
              "      <td>IND</td>\n",
              "      <td>Frank</td>\n",
              "      <td>Mountain Brk</td>\n",
              "      <td>AL</td>\n",
              "      <td>35213</td>\n",
              "      <td>retired</td>\n",
              "      <td>500.0</td>\n",
              "      <td>2019-03-31</td>\n",
              "      <td>500.00</td>\n",
              "      <td>2020</td>\n",
              "      <td>Kamala Harris For The People</td>\n",
              "    </tr>\n",
              "    <tr>\n",
              "      <th>4</th>\n",
              "      <td>IND</td>\n",
              "      <td>Henry</td>\n",
              "      <td>Birmingham</td>\n",
              "      <td>AL</td>\n",
              "      <td>35242</td>\n",
              "      <td>pt consultant</td>\n",
              "      <td>25.0</td>\n",
              "      <td>2019-03-30</td>\n",
              "      <td>297.84</td>\n",
              "      <td>2020</td>\n",
              "      <td>Kamala Harris For The People</td>\n",
              "    </tr>\n",
              "    <tr>\n",
              "      <th>5</th>\n",
              "      <td>IND</td>\n",
              "      <td>Henry</td>\n",
              "      <td>Birmingham</td>\n",
              "      <td>AL</td>\n",
              "      <td>35242</td>\n",
              "      <td>pt consultant</td>\n",
              "      <td>25.0</td>\n",
              "      <td>2019-03-28</td>\n",
              "      <td>297.84</td>\n",
              "      <td>2020</td>\n",
              "      <td>Kamala Harris For The People</td>\n",
              "    </tr>\n",
              "    <tr>\n",
              "      <th>...</th>\n",
              "      <td>...</td>\n",
              "      <td>...</td>\n",
              "      <td>...</td>\n",
              "      <td>...</td>\n",
              "      <td>...</td>\n",
              "      <td>...</td>\n",
              "      <td>...</td>\n",
              "      <td>...</td>\n",
              "      <td>...</td>\n",
              "      <td>...</td>\n",
              "      <td>...</td>\n",
              "    </tr>\n",
              "    <tr>\n",
              "      <th>999996</th>\n",
              "      <td>IND</td>\n",
              "      <td>Catherine</td>\n",
              "      <td>Pasadena</td>\n",
              "      <td>CA</td>\n",
              "      <td>91104</td>\n",
              "      <td>teacher</td>\n",
              "      <td>100.0</td>\n",
              "      <td>2019-11-04</td>\n",
              "      <td>240.05</td>\n",
              "      <td>2020</td>\n",
              "      <td>Warren For President, Inc.</td>\n",
              "    </tr>\n",
              "    <tr>\n",
              "      <th>999997</th>\n",
              "      <td>IND</td>\n",
              "      <td>Laura</td>\n",
              "      <td>San Francisco</td>\n",
              "      <td>CA</td>\n",
              "      <td>94158</td>\n",
              "      <td>product manager</td>\n",
              "      <td>100.0</td>\n",
              "      <td>2019-10-15</td>\n",
              "      <td>300.00</td>\n",
              "      <td>2020</td>\n",
              "      <td>Warren For President, Inc.</td>\n",
              "    </tr>\n",
              "    <tr>\n",
              "      <th>999998</th>\n",
              "      <td>IND</td>\n",
              "      <td>Laura</td>\n",
              "      <td>San Francisco</td>\n",
              "      <td>CA</td>\n",
              "      <td>94158</td>\n",
              "      <td>product manager</td>\n",
              "      <td>100.0</td>\n",
              "      <td>2019-12-31</td>\n",
              "      <td>300.00</td>\n",
              "      <td>2020</td>\n",
              "      <td>Warren For President, Inc.</td>\n",
              "    </tr>\n",
              "    <tr>\n",
              "      <th>999999</th>\n",
              "      <td>IND</td>\n",
              "      <td>Marie</td>\n",
              "      <td>Sacramento</td>\n",
              "      <td>CA</td>\n",
              "      <td>95831</td>\n",
              "      <td>education administration</td>\n",
              "      <td>50.0</td>\n",
              "      <td>2019-10-27</td>\n",
              "      <td>460.00</td>\n",
              "      <td>2020</td>\n",
              "      <td>Warren For President, Inc.</td>\n",
              "    </tr>\n",
              "    <tr>\n",
              "      <th>1000000</th>\n",
              "      <td>IND</td>\n",
              "      <td>Marie</td>\n",
              "      <td>Sacramento</td>\n",
              "      <td>CA</td>\n",
              "      <td>95831</td>\n",
              "      <td>education administration</td>\n",
              "      <td>50.0</td>\n",
              "      <td>2019-11-21</td>\n",
              "      <td>460.00</td>\n",
              "      <td>2020</td>\n",
              "      <td>Warren For President, Inc.</td>\n",
              "    </tr>\n",
              "  </tbody>\n",
              "</table>\n",
              "<p>1000000 rows × 11 columns</p>\n",
              "</div>"
            ],
            "text/plain": [
              "          Flag_Orgind First_Name           City State    Zip  \\\n",
              "Record_id                                                      \n",
              "1                 IND    Russell     Birmingham    AL  35205   \n",
              "2                 IND       Cody         Mobile    AL  36695   \n",
              "3                 IND      Frank   Mountain Brk    AL  35213   \n",
              "4                 IND      Henry     Birmingham    AL  35242   \n",
              "5                 IND      Henry     Birmingham    AL  35242   \n",
              "...               ...        ...            ...   ...    ...   \n",
              "999996            IND  Catherine       Pasadena    CA  91104   \n",
              "999997            IND      Laura  San Francisco    CA  94158   \n",
              "999998            IND      Laura  San Francisco    CA  94158   \n",
              "999999            IND      Marie     Sacramento    CA  95831   \n",
              "1000000           IND      Marie     Sacramento    CA  95831   \n",
              "\n",
              "                         Occupation  Amount       Date  Aggregate_Amount  \\\n",
              "Record_id                                                                  \n",
              "1                           retired   250.0 2019-03-31            250.00   \n",
              "2                             clerk   100.0 2019-03-31            250.00   \n",
              "3                           retired   500.0 2019-03-31            500.00   \n",
              "4                     pt consultant    25.0 2019-03-30            297.84   \n",
              "5                     pt consultant    25.0 2019-03-28            297.84   \n",
              "...                             ...     ...        ...               ...   \n",
              "999996                      teacher   100.0 2019-11-04            240.05   \n",
              "999997              product manager   100.0 2019-10-15            300.00   \n",
              "999998              product manager   100.0 2019-12-31            300.00   \n",
              "999999     education administration    50.0 2019-10-27            460.00   \n",
              "1000000    education administration    50.0 2019-11-21            460.00   \n",
              "\n",
              "           Cycle                      Campaign  \n",
              "Record_id                                       \n",
              "1           2020  Kamala Harris For The People  \n",
              "2           2020  Kamala Harris For The People  \n",
              "3           2020  Kamala Harris For The People  \n",
              "4           2020  Kamala Harris For The People  \n",
              "5           2020  Kamala Harris For The People  \n",
              "...          ...                           ...  \n",
              "999996      2020    Warren For President, Inc.  \n",
              "999997      2020    Warren For President, Inc.  \n",
              "999998      2020    Warren For President, Inc.  \n",
              "999999      2020    Warren For President, Inc.  \n",
              "1000000     2020    Warren For President, Inc.  \n",
              "\n",
              "[1000000 rows x 11 columns]"
            ]
          },
          "metadata": {
            "tags": []
          },
          "execution_count": 7
        }
      ]
    },
    {
      "cell_type": "markdown",
      "metadata": {
        "id": "Osg5kgcrp0G8"
      },
      "source": [
        "### Display Unique Values in \"Flag_Orgind\" Column"
      ]
    },
    {
      "cell_type": "code",
      "metadata": {
        "id": "pwXZcovwp0HJ",
        "outputId": "cf846db3-5611-4a48-893b-422db3fdba86"
      },
      "source": [
        "dataFrames[0].Flag_Orgind.unique()"
      ],
      "execution_count": null,
      "outputs": [
        {
          "output_type": "execute_result",
          "data": {
            "text/plain": [
              "array(['IND', 'ORG', 'CCM', 'PAC', 'COM', 'PTY', 'CAN'], dtype=object)"
            ]
          },
          "metadata": {
            "tags": []
          },
          "execution_count": 9
        }
      ]
    },
    {
      "cell_type": "markdown",
      "metadata": {
        "id": "c34UxryBp0HO"
      },
      "source": [
        "### Investigate Overall Number of Non-Individual Donors "
      ]
    },
    {
      "cell_type": "code",
      "metadata": {
        "id": "v3PRA46np0HP",
        "outputId": "eeece848-13ca-4f1d-b88a-c3dfec7d7de7"
      },
      "source": [
        "non_ind_list = []\n",
        "for dataframe in dataFrames:\n",
        "    non_ind_df = dataframe.loc[dataframe[\"Flag_Orgind\"] != \"IND\"]\n",
        "    non_ind_list.append(non_ind_df)\n",
        "non_ind_final = pd.concat(non_ind_list)\n",
        "non_ind_final\n",
        "    "
      ],
      "execution_count": null,
      "outputs": [
        {
          "output_type": "execute_result",
          "data": {
            "text/html": [
              "<div>\n",
              "<style scoped>\n",
              "    .dataframe tbody tr th:only-of-type {\n",
              "        vertical-align: middle;\n",
              "    }\n",
              "\n",
              "    .dataframe tbody tr th {\n",
              "        vertical-align: top;\n",
              "    }\n",
              "\n",
              "    .dataframe thead th {\n",
              "        text-align: right;\n",
              "    }\n",
              "</style>\n",
              "<table border=\"1\" class=\"dataframe\">\n",
              "  <thead>\n",
              "    <tr style=\"text-align: right;\">\n",
              "      <th></th>\n",
              "      <th>Flag_Orgind</th>\n",
              "      <th>First_Name</th>\n",
              "      <th>City</th>\n",
              "      <th>State</th>\n",
              "      <th>Zip</th>\n",
              "      <th>Occupation</th>\n",
              "      <th>Amount</th>\n",
              "      <th>Date</th>\n",
              "      <th>Aggregate_Amount</th>\n",
              "      <th>Cycle</th>\n",
              "      <th>Campaign</th>\n",
              "    </tr>\n",
              "    <tr>\n",
              "      <th>Record_id</th>\n",
              "      <th></th>\n",
              "      <th></th>\n",
              "      <th></th>\n",
              "      <th></th>\n",
              "      <th></th>\n",
              "      <th></th>\n",
              "      <th></th>\n",
              "      <th></th>\n",
              "      <th></th>\n",
              "      <th></th>\n",
              "      <th></th>\n",
              "    </tr>\n",
              "  </thead>\n",
              "  <tbody>\n",
              "    <tr>\n",
              "      <th>133</th>\n",
              "      <td>ORG</td>\n",
              "      <td>None</td>\n",
              "      <td>BIRMINGHAM</td>\n",
              "      <td>AL</td>\n",
              "      <td>35203</td>\n",
              "      <td>None</td>\n",
              "      <td>500.00</td>\n",
              "      <td>2019-03-25</td>\n",
              "      <td>500.00</td>\n",
              "      <td>2020</td>\n",
              "      <td>Donald J. Trump For President, Inc.</td>\n",
              "    </tr>\n",
              "    <tr>\n",
              "      <th>2857</th>\n",
              "      <td>CCM</td>\n",
              "      <td>None</td>\n",
              "      <td>Huntsville</td>\n",
              "      <td>AL</td>\n",
              "      <td>35801</td>\n",
              "      <td>None</td>\n",
              "      <td>100.00</td>\n",
              "      <td>2019-06-23</td>\n",
              "      <td>200.00</td>\n",
              "      <td>2020</td>\n",
              "      <td>Swalwell For America</td>\n",
              "    </tr>\n",
              "    <tr>\n",
              "      <th>2858</th>\n",
              "      <td>CCM</td>\n",
              "      <td>None</td>\n",
              "      <td>Huntsville</td>\n",
              "      <td>AL</td>\n",
              "      <td>35801</td>\n",
              "      <td>None</td>\n",
              "      <td>100.00</td>\n",
              "      <td>2019-05-23</td>\n",
              "      <td>200.00</td>\n",
              "      <td>2020</td>\n",
              "      <td>Swalwell For America</td>\n",
              "    </tr>\n",
              "    <tr>\n",
              "      <th>16399</th>\n",
              "      <td>PAC</td>\n",
              "      <td>None</td>\n",
              "      <td>Birmingham</td>\n",
              "      <td>AL</td>\n",
              "      <td>35213</td>\n",
              "      <td>None</td>\n",
              "      <td>5000.00</td>\n",
              "      <td>2019-12-31</td>\n",
              "      <td>5000.00</td>\n",
              "      <td>2020</td>\n",
              "      <td>Biden For President</td>\n",
              "    </tr>\n",
              "    <tr>\n",
              "      <th>25750</th>\n",
              "      <td>COM</td>\n",
              "      <td>None</td>\n",
              "      <td>Birmingham</td>\n",
              "      <td>AL</td>\n",
              "      <td>35203</td>\n",
              "      <td>None</td>\n",
              "      <td>250.00</td>\n",
              "      <td>2020-01-23</td>\n",
              "      <td>250.00</td>\n",
              "      <td>2020</td>\n",
              "      <td>Biden For President</td>\n",
              "    </tr>\n",
              "    <tr>\n",
              "      <th>...</th>\n",
              "      <td>...</td>\n",
              "      <td>...</td>\n",
              "      <td>...</td>\n",
              "      <td>...</td>\n",
              "      <td>...</td>\n",
              "      <td>...</td>\n",
              "      <td>...</td>\n",
              "      <td>...</td>\n",
              "      <td>...</td>\n",
              "      <td>...</td>\n",
              "      <td>...</td>\n",
              "    </tr>\n",
              "    <tr>\n",
              "      <th>9758034</th>\n",
              "      <td>ORG</td>\n",
              "      <td>None</td>\n",
              "      <td>Cheyenne</td>\n",
              "      <td>WY</td>\n",
              "      <td>82001</td>\n",
              "      <td>None</td>\n",
              "      <td>16820.70</td>\n",
              "      <td>2020-04-03</td>\n",
              "      <td>16820.70</td>\n",
              "      <td>2020</td>\n",
              "      <td>Tom Steyer 2020</td>\n",
              "    </tr>\n",
              "    <tr>\n",
              "      <th>9761061</th>\n",
              "      <td>CCM</td>\n",
              "      <td>None</td>\n",
              "      <td>CASPER</td>\n",
              "      <td>WY</td>\n",
              "      <td>82605</td>\n",
              "      <td>None</td>\n",
              "      <td>2000.00</td>\n",
              "      <td>2020-06-10</td>\n",
              "      <td>2000.00</td>\n",
              "      <td>2020</td>\n",
              "      <td>Donald J. Trump For President, Inc.</td>\n",
              "    </tr>\n",
              "    <tr>\n",
              "      <th>9761062</th>\n",
              "      <td>CCM</td>\n",
              "      <td>None</td>\n",
              "      <td>CASPER</td>\n",
              "      <td>WY</td>\n",
              "      <td>82605</td>\n",
              "      <td>None</td>\n",
              "      <td>2000.00</td>\n",
              "      <td>2020-06-10</td>\n",
              "      <td>4000.00</td>\n",
              "      <td>2020</td>\n",
              "      <td>Donald J. Trump For President, Inc.</td>\n",
              "    </tr>\n",
              "    <tr>\n",
              "      <th>9762333</th>\n",
              "      <td>PTY</td>\n",
              "      <td>None</td>\n",
              "      <td>CHEYENNE</td>\n",
              "      <td>WY</td>\n",
              "      <td>82001</td>\n",
              "      <td>None</td>\n",
              "      <td>972.10</td>\n",
              "      <td>2020-07-24</td>\n",
              "      <td>972.10</td>\n",
              "      <td>2020</td>\n",
              "      <td>Donald J. Trump For President, Inc.</td>\n",
              "    </tr>\n",
              "    <tr>\n",
              "      <th>9762736</th>\n",
              "      <td>PTY</td>\n",
              "      <td>None</td>\n",
              "      <td>CHEYENNE</td>\n",
              "      <td>WY</td>\n",
              "      <td>82001</td>\n",
              "      <td>None</td>\n",
              "      <td>551.75</td>\n",
              "      <td>2020-08-14</td>\n",
              "      <td>551.75</td>\n",
              "      <td>2020</td>\n",
              "      <td>Donald J. Trump For President, Inc.</td>\n",
              "    </tr>\n",
              "  </tbody>\n",
              "</table>\n",
              "<p>14614 rows × 11 columns</p>\n",
              "</div>"
            ],
            "text/plain": [
              "          Flag_Orgind First_Name        City State    Zip Occupation  \\\n",
              "Record_id                                                              \n",
              "133               ORG       None  BIRMINGHAM    AL  35203       None   \n",
              "2857              CCM       None  Huntsville    AL  35801       None   \n",
              "2858              CCM       None  Huntsville    AL  35801       None   \n",
              "16399             PAC       None  Birmingham    AL  35213       None   \n",
              "25750             COM       None  Birmingham    AL  35203       None   \n",
              "...               ...        ...         ...   ...    ...        ...   \n",
              "9758034           ORG       None    Cheyenne    WY  82001       None   \n",
              "9761061           CCM       None      CASPER    WY  82605       None   \n",
              "9761062           CCM       None      CASPER    WY  82605       None   \n",
              "9762333           PTY       None    CHEYENNE    WY  82001       None   \n",
              "9762736           PTY       None    CHEYENNE    WY  82001       None   \n",
              "\n",
              "             Amount       Date  Aggregate_Amount  Cycle  \\\n",
              "Record_id                                                 \n",
              "133          500.00 2019-03-25            500.00   2020   \n",
              "2857         100.00 2019-06-23            200.00   2020   \n",
              "2858         100.00 2019-05-23            200.00   2020   \n",
              "16399       5000.00 2019-12-31           5000.00   2020   \n",
              "25750        250.00 2020-01-23            250.00   2020   \n",
              "...             ...        ...               ...    ...   \n",
              "9758034    16820.70 2020-04-03          16820.70   2020   \n",
              "9761061     2000.00 2020-06-10           2000.00   2020   \n",
              "9761062     2000.00 2020-06-10           4000.00   2020   \n",
              "9762333      972.10 2020-07-24            972.10   2020   \n",
              "9762736      551.75 2020-08-14            551.75   2020   \n",
              "\n",
              "                                      Campaign  \n",
              "Record_id                                       \n",
              "133        Donald J. Trump For President, Inc.  \n",
              "2857                      Swalwell For America  \n",
              "2858                      Swalwell For America  \n",
              "16399                      Biden For President  \n",
              "25750                      Biden For President  \n",
              "...                                        ...  \n",
              "9758034                        Tom Steyer 2020  \n",
              "9761061    Donald J. Trump For President, Inc.  \n",
              "9761062    Donald J. Trump For President, Inc.  \n",
              "9762333    Donald J. Trump For President, Inc.  \n",
              "9762736    Donald J. Trump For President, Inc.  \n",
              "\n",
              "[14614 rows x 11 columns]"
            ]
          },
          "metadata": {
            "tags": []
          },
          "execution_count": 56
        }
      ]
    },
    {
      "cell_type": "markdown",
      "metadata": {
        "id": "3whw8D4Pp0Hq"
      },
      "source": [
        "### Display Unique Values in \"Campaign\" Column"
      ]
    },
    {
      "cell_type": "code",
      "metadata": {
        "id": "FM36CMUWp0Hq",
        "outputId": "b6f7601b-b359-4261-b548-0f60e9df2c9f"
      },
      "source": [
        "dataFrames[0].Campaign.unique()"
      ],
      "execution_count": null,
      "outputs": [
        {
          "output_type": "execute_result",
          "data": {
            "text/plain": [
              "array(['Kamala Harris For The People', 'Bernie 2020', 'Tulsi Now',\n",
              "       'Donald J. Trump For President, Inc.', 'Pete For America, Inc.',\n",
              "       'Beto For America', 'Friends Of Andrew Yang', 'Amy For America',\n",
              "       'Warren For President, Inc.', 'Cory 2020',\n",
              "       'Marianne Williamson For President', 'Hickenlooper 2020',\n",
              "       'Bennet For America', 'Seth Moulton For America, Inc.',\n",
              "       'Swalwell For America', 'Biden For President',\n",
              "       'Tim Ryan For America',\n",
              "       'Weld 2020 Presidential Campaign Committee, Inc.',\n",
              "       'De Blasio 2020', 'Friends Of John Delaney',\n",
              "       'Bullock For President', 'Tom Steyer 2020',\n",
              "       'Julian For The Future', 'Deval For All',\n",
              "       'Mike Bloomberg 2020, Inc.', 'Inslee For America',\n",
              "       'Joe Sestak For President', 'Wayne Messam For America, Inc.',\n",
              "       'Gillibrand 2020', 'People First Future',\n",
              "       'Committee For Peace, Justice, And Mike Gravel'], dtype=object)"
            ]
          },
          "metadata": {
            "tags": []
          },
          "execution_count": 10
        }
      ]
    },
    {
      "cell_type": "markdown",
      "metadata": {
        "id": "dtWrXgYKp0H3"
      },
      "source": [
        "### Filter \"Flag_Orgind\" Column for Individual Donors, Append to New List, and Check Unique Values"
      ]
    },
    {
      "cell_type": "code",
      "metadata": {
        "id": "4uGk1YJ1p0H5",
        "outputId": "940f627e-dc52-4e90-b431-ece0409360ce"
      },
      "source": [
        "cleaned_dataframes = []\n",
        "for dataframe in dataFrames:\n",
        "    filtered_dataframe = dataframe[dataframe[\"Flag_Orgind\"] == \"IND\"]\n",
        "    cleaned_dataframes.append(filtered_dataframe)\n",
        "cleaned_dataframes[0].Flag_Orgind.unique()"
      ],
      "execution_count": null,
      "outputs": [
        {
          "output_type": "execute_result",
          "data": {
            "text/plain": [
              "array(['IND'], dtype=object)"
            ]
          },
          "metadata": {
            "tags": []
          },
          "execution_count": 17
        }
      ]
    },
    {
      "cell_type": "markdown",
      "metadata": {
        "id": "gqxKRhblp0H9"
      },
      "source": [
        "### Create Lists for Campaign Type"
      ]
    },
    {
      "cell_type": "code",
      "metadata": {
        "id": "3GqPRrNQp0H_"
      },
      "source": [
        "democratic_campaigns = ['Kamala Harris For The People', 'Bernie 2020', 'Tulsi Now','Pete For America, Inc.','Beto For America', 'Friends Of Andrew Yang', 'Amy For America','Warren For President, Inc.', 'Cory 2020', 'Marianne Williamson For President', 'Hickenlooper 2020', 'Bennet For America', 'Seth Moulton For America, Inc.', 'Swalwell For America', 'Biden For President', 'Tim Ryan For America', 'De Blasio 2020', 'Friends Of John Delaney', 'Bullock For President', 'Tom Steyer 2020', 'Julian For The Future', 'Deval For All', 'Mike Bloomberg 2020, Inc.', 'Inslee For America', 'Joe Sestak For President', 'Wayne Messam For America, Inc.', 'Gillibrand 2020', 'People First Future', 'Committee For Peace, Justice, And Mike Gravel']\n",
        "republican_campaigns = ['Donald J. Trump For President, Inc.', 'Weld 2020 Presidential Campaign Committee, Inc.']"
      ],
      "execution_count": null,
      "outputs": []
    },
    {
      "cell_type": "markdown",
      "metadata": {
        "id": "hFdqC0tBp0IL"
      },
      "source": [
        "### Create New Column for Campaign Type and Assign Values"
      ]
    },
    {
      "cell_type": "code",
      "metadata": {
        "id": "fNeKt-Fmp0IO",
        "outputId": "07af1db3-b72a-417b-e7e7-24e9be59d5a2"
      },
      "source": [
        "for dataframe in cleaned_dataframes:\n",
        "    dataframe[\"Campaign_Type\"] = np.where(dataframe[\"Campaign\"].isin(democratic_campaigns), \"Democratic\", \"Republican\")\n",
        "cleaned_dataframes[0].Campaign_Type.unique()\n"
      ],
      "execution_count": null,
      "outputs": [
        {
          "output_type": "stream",
          "text": [
            "/Applications/anaconda3/lib/python3.7/site-packages/ipykernel_launcher.py:2: SettingWithCopyWarning: \n",
            "A value is trying to be set on a copy of a slice from a DataFrame.\n",
            "Try using .loc[row_indexer,col_indexer] = value instead\n",
            "\n",
            "See the caveats in the documentation: https://pandas.pydata.org/pandas-docs/stable/user_guide/indexing.html#returning-a-view-versus-a-copy\n",
            "  \n"
          ],
          "name": "stderr"
        },
        {
          "output_type": "execute_result",
          "data": {
            "text/plain": [
              "array(['Democratic', 'Republican'], dtype=object)"
            ]
          },
          "metadata": {
            "tags": []
          },
          "execution_count": 24
        }
      ]
    },
    {
      "cell_type": "markdown",
      "metadata": {
        "id": "zOcYVu_hp0IY"
      },
      "source": [
        "### Verify New Values"
      ]
    },
    {
      "cell_type": "code",
      "metadata": {
        "id": "5Mn5h5Z5p0IZ",
        "outputId": "b9c0e2ef-61b0-4c9b-a560-ae91f09fb463"
      },
      "source": [
        "democratic_test_0 = cleaned_dataframes[0].loc[cleaned_dataframes[0][\"Campaign_Type\"] == \"Democratic\"]\n",
        "democratic_test_0[\"Campaign\"].unique()"
      ],
      "execution_count": null,
      "outputs": [
        {
          "output_type": "execute_result",
          "data": {
            "text/plain": [
              "array(['Kamala Harris For The People', 'Bernie 2020', 'Tulsi Now',\n",
              "       'Pete For America, Inc.', 'Beto For America',\n",
              "       'Friends Of Andrew Yang', 'Amy For America',\n",
              "       'Warren For President, Inc.', 'Cory 2020',\n",
              "       'Marianne Williamson For President', 'Hickenlooper 2020',\n",
              "       'Bennet For America', 'Seth Moulton For America, Inc.',\n",
              "       'Swalwell For America', 'Biden For President',\n",
              "       'Tim Ryan For America', 'De Blasio 2020',\n",
              "       'Friends Of John Delaney', 'Bullock For President',\n",
              "       'Tom Steyer 2020', 'Julian For The Future', 'Deval For All',\n",
              "       'Mike Bloomberg 2020, Inc.', 'Inslee For America',\n",
              "       'Joe Sestak For President', 'Wayne Messam For America, Inc.',\n",
              "       'Gillibrand 2020', 'People First Future',\n",
              "       'Committee For Peace, Justice, And Mike Gravel'], dtype=object)"
            ]
          },
          "metadata": {
            "tags": []
          },
          "execution_count": 30
        }
      ]
    },
    {
      "cell_type": "code",
      "metadata": {
        "id": "nnmAR6qLp0Ie",
        "outputId": "ce2b1217-e000-4b0c-afbe-657be8a18e5c"
      },
      "source": [
        "republican_test_0 = cleaned_dataframes[0].loc[cleaned_dataframes[0][\"Campaign_Type\"] == \"Republican\"]\n",
        "republican_test_0[\"Campaign\"].unique()"
      ],
      "execution_count": null,
      "outputs": [
        {
          "output_type": "execute_result",
          "data": {
            "text/plain": [
              "array(['Donald J. Trump For President, Inc.',\n",
              "       'Weld 2020 Presidential Campaign Committee, Inc.'], dtype=object)"
            ]
          },
          "metadata": {
            "tags": []
          },
          "execution_count": 31
        }
      ]
    },
    {
      "cell_type": "markdown",
      "metadata": {
        "id": "253B_5MMp0Is"
      },
      "source": [
        "### Scrape Gender Data and Create Gender Lists"
      ]
    },
    {
      "cell_type": "code",
      "metadata": {
        "id": "nyYFofoQp0Iv"
      },
      "source": [
        "# male_url = \"https://namecensus.com/male_names_alpha.htm\"\n",
        "# male_page = requests.get(male_url)\n",
        "# male_doc = lh.fromstring(male_page.content)\n",
        "# male_inner_html = tostring(male_doc)\n",
        "# male_tr_elements = male_doc.xpath(\"//tr\")\n",
        "\n",
        "# female_url = \"https://namecensus.com/female_names_alpha.htm\"\n",
        "# female_page = requests.get(female_url)\n",
        "# female_doc = lh.fromstring(female_page.content)\n",
        "# female_inner_html = tostring(female_doc)\n",
        "# female_tr_elements = female_doc.xpath(\"//tr\")\n",
        "\n",
        "# male_table_text = []\n",
        "# for i in range(1, len(male_tr_elements)):\n",
        "#     for male_element in male_tr_elements[i]:\n",
        "#         male_cell_text = male_element.text_content()\n",
        "#         male_table_text.append(male_cell_text)\n",
        "\n",
        "# male_name_list = male_table_text[::4]\n",
        "# male_name_strings = [str(item) for item in male_name_list]\n",
        "\n",
        "# female_table_text = []\n",
        "# for j in range(1, len(female_tr_elements)):\n",
        "#     for female_element in female_tr_elements[j]:\n",
        "#         female_cell_text = female_element.text_content()\n",
        "#         female_table_text.append(female_cell_text)\n",
        "\n",
        "# female_name_list = female_table_text[::4]\n",
        "# female_name_strings = [str(item) for item in female_name_list]"
      ],
      "execution_count": null,
      "outputs": []
    },
    {
      "cell_type": "markdown",
      "metadata": {
        "id": "yPPUNEu9p0JT"
      },
      "source": [
        "### Concatenate Cleaned Dataframes"
      ]
    },
    {
      "cell_type": "code",
      "metadata": {
        "id": "PMCBC7cXp0Jd",
        "outputId": "421f4d79-adf6-4ae3-b190-4ccde905f778"
      },
      "source": [
        "cleaned_dataframe = pd.concat(cleaned_dataframes)\n",
        "cleaned_dataframe.head()"
      ],
      "execution_count": null,
      "outputs": [
        {
          "output_type": "execute_result",
          "data": {
            "text/html": [
              "<div>\n",
              "<style scoped>\n",
              "    .dataframe tbody tr th:only-of-type {\n",
              "        vertical-align: middle;\n",
              "    }\n",
              "\n",
              "    .dataframe tbody tr th {\n",
              "        vertical-align: top;\n",
              "    }\n",
              "\n",
              "    .dataframe thead th {\n",
              "        text-align: right;\n",
              "    }\n",
              "</style>\n",
              "<table border=\"1\" class=\"dataframe\">\n",
              "  <thead>\n",
              "    <tr style=\"text-align: right;\">\n",
              "      <th></th>\n",
              "      <th>Flag_Orgind</th>\n",
              "      <th>First_Name</th>\n",
              "      <th>City</th>\n",
              "      <th>State</th>\n",
              "      <th>Zip</th>\n",
              "      <th>Occupation</th>\n",
              "      <th>Amount</th>\n",
              "      <th>Date</th>\n",
              "      <th>Aggregate_Amount</th>\n",
              "      <th>Cycle</th>\n",
              "      <th>Campaign</th>\n",
              "      <th>Campaign_Type</th>\n",
              "    </tr>\n",
              "    <tr>\n",
              "      <th>Record_id</th>\n",
              "      <th></th>\n",
              "      <th></th>\n",
              "      <th></th>\n",
              "      <th></th>\n",
              "      <th></th>\n",
              "      <th></th>\n",
              "      <th></th>\n",
              "      <th></th>\n",
              "      <th></th>\n",
              "      <th></th>\n",
              "      <th></th>\n",
              "      <th></th>\n",
              "    </tr>\n",
              "  </thead>\n",
              "  <tbody>\n",
              "    <tr>\n",
              "      <th>1</th>\n",
              "      <td>IND</td>\n",
              "      <td>Russell</td>\n",
              "      <td>Birmingham</td>\n",
              "      <td>AL</td>\n",
              "      <td>35205</td>\n",
              "      <td>retired</td>\n",
              "      <td>250.0</td>\n",
              "      <td>2019-03-31</td>\n",
              "      <td>250.00</td>\n",
              "      <td>2020</td>\n",
              "      <td>Kamala Harris For The People</td>\n",
              "      <td>Democratic</td>\n",
              "    </tr>\n",
              "    <tr>\n",
              "      <th>2</th>\n",
              "      <td>IND</td>\n",
              "      <td>Cody</td>\n",
              "      <td>Mobile</td>\n",
              "      <td>AL</td>\n",
              "      <td>36695</td>\n",
              "      <td>clerk</td>\n",
              "      <td>100.0</td>\n",
              "      <td>2019-03-31</td>\n",
              "      <td>250.00</td>\n",
              "      <td>2020</td>\n",
              "      <td>Kamala Harris For The People</td>\n",
              "      <td>Democratic</td>\n",
              "    </tr>\n",
              "    <tr>\n",
              "      <th>3</th>\n",
              "      <td>IND</td>\n",
              "      <td>Frank</td>\n",
              "      <td>Mountain Brk</td>\n",
              "      <td>AL</td>\n",
              "      <td>35213</td>\n",
              "      <td>retired</td>\n",
              "      <td>500.0</td>\n",
              "      <td>2019-03-31</td>\n",
              "      <td>500.00</td>\n",
              "      <td>2020</td>\n",
              "      <td>Kamala Harris For The People</td>\n",
              "      <td>Democratic</td>\n",
              "    </tr>\n",
              "    <tr>\n",
              "      <th>4</th>\n",
              "      <td>IND</td>\n",
              "      <td>Henry</td>\n",
              "      <td>Birmingham</td>\n",
              "      <td>AL</td>\n",
              "      <td>35242</td>\n",
              "      <td>pt consultant</td>\n",
              "      <td>25.0</td>\n",
              "      <td>2019-03-30</td>\n",
              "      <td>297.84</td>\n",
              "      <td>2020</td>\n",
              "      <td>Kamala Harris For The People</td>\n",
              "      <td>Democratic</td>\n",
              "    </tr>\n",
              "    <tr>\n",
              "      <th>5</th>\n",
              "      <td>IND</td>\n",
              "      <td>Henry</td>\n",
              "      <td>Birmingham</td>\n",
              "      <td>AL</td>\n",
              "      <td>35242</td>\n",
              "      <td>pt consultant</td>\n",
              "      <td>25.0</td>\n",
              "      <td>2019-03-28</td>\n",
              "      <td>297.84</td>\n",
              "      <td>2020</td>\n",
              "      <td>Kamala Harris For The People</td>\n",
              "      <td>Democratic</td>\n",
              "    </tr>\n",
              "  </tbody>\n",
              "</table>\n",
              "</div>"
            ],
            "text/plain": [
              "          Flag_Orgind First_Name          City State    Zip     Occupation  \\\n",
              "Record_id                                                                    \n",
              "1                 IND    Russell    Birmingham    AL  35205        retired   \n",
              "2                 IND       Cody        Mobile    AL  36695          clerk   \n",
              "3                 IND      Frank  Mountain Brk    AL  35213        retired   \n",
              "4                 IND      Henry    Birmingham    AL  35242  pt consultant   \n",
              "5                 IND      Henry    Birmingham    AL  35242  pt consultant   \n",
              "\n",
              "           Amount       Date  Aggregate_Amount  Cycle  \\\n",
              "Record_id                                               \n",
              "1           250.0 2019-03-31            250.00   2020   \n",
              "2           100.0 2019-03-31            250.00   2020   \n",
              "3           500.0 2019-03-31            500.00   2020   \n",
              "4            25.0 2019-03-30            297.84   2020   \n",
              "5            25.0 2019-03-28            297.84   2020   \n",
              "\n",
              "                               Campaign Campaign_Type  \n",
              "Record_id                                              \n",
              "1          Kamala Harris For The People    Democratic  \n",
              "2          Kamala Harris For The People    Democratic  \n",
              "3          Kamala Harris For The People    Democratic  \n",
              "4          Kamala Harris For The People    Democratic  \n",
              "5          Kamala Harris For The People    Democratic  "
            ]
          },
          "metadata": {
            "tags": []
          },
          "execution_count": 44
        }
      ]
    },
    {
      "cell_type": "markdown",
      "metadata": {
        "id": "AyJ5e6Ewp0Jh"
      },
      "source": [
        "### Display Final Dataframe Length and Data Types"
      ]
    },
    {
      "cell_type": "code",
      "metadata": {
        "id": "c39qWIrWp0Jh",
        "outputId": "b2c51964-91b7-44aa-ac8a-09ab72c3f435"
      },
      "source": [
        "len(cleaned_dataframe)"
      ],
      "execution_count": null,
      "outputs": [
        {
          "output_type": "execute_result",
          "data": {
            "text/plain": [
              "9749263"
            ]
          },
          "metadata": {
            "tags": []
          },
          "execution_count": 45
        }
      ]
    },
    {
      "cell_type": "code",
      "metadata": {
        "id": "jAokf8-Jp0J0",
        "outputId": "7195e58c-2958-433a-fa79-1be2a58ea9dd"
      },
      "source": [
        "cleaned_dataframe.dtypes"
      ],
      "execution_count": null,
      "outputs": [
        {
          "output_type": "execute_result",
          "data": {
            "text/plain": [
              "Flag_Orgind                 object\n",
              "First_Name                  object\n",
              "City                        object\n",
              "State                       object\n",
              "Zip                         object\n",
              "Occupation                  object\n",
              "Amount                     float64\n",
              "Date                datetime64[ns]\n",
              "Aggregate_Amount           float64\n",
              "Cycle                        int64\n",
              "Campaign                    object\n",
              "Campaign_Type               object\n",
              "dtype: object"
            ]
          },
          "metadata": {
            "tags": []
          },
          "execution_count": 53
        }
      ]
    },
    {
      "cell_type": "markdown",
      "metadata": {
        "id": "1ZT3kKIip0KA"
      },
      "source": [
        "### Confirm Filtering of Donor Type"
      ]
    },
    {
      "cell_type": "code",
      "metadata": {
        "id": "i2WrAz0up0KB",
        "outputId": "d5775e92-972d-44e1-8a8e-72cd9109a3d2"
      },
      "source": [
        "cleaned_dataframe[\"Flag_Orgind\"].unique()"
      ],
      "execution_count": null,
      "outputs": [
        {
          "output_type": "execute_result",
          "data": {
            "text/plain": [
              "array(['IND'], dtype=object)"
            ]
          },
          "metadata": {
            "tags": []
          },
          "execution_count": 49
        }
      ]
    },
    {
      "cell_type": "code",
      "metadata": {
        "id": "H1Q2iz7pp0KD",
        "outputId": "37efecf1-c759-4293-abc5-46739dcb4061"
      },
      "source": [
        "cleaned_dataframe.loc[cleaned_dataframe[\"Flag_Orgind\"] != \"IND\"]"
      ],
      "execution_count": null,
      "outputs": [
        {
          "output_type": "execute_result",
          "data": {
            "text/html": [
              "<div>\n",
              "<style scoped>\n",
              "    .dataframe tbody tr th:only-of-type {\n",
              "        vertical-align: middle;\n",
              "    }\n",
              "\n",
              "    .dataframe tbody tr th {\n",
              "        vertical-align: top;\n",
              "    }\n",
              "\n",
              "    .dataframe thead th {\n",
              "        text-align: right;\n",
              "    }\n",
              "</style>\n",
              "<table border=\"1\" class=\"dataframe\">\n",
              "  <thead>\n",
              "    <tr style=\"text-align: right;\">\n",
              "      <th></th>\n",
              "      <th>Flag_Orgind</th>\n",
              "      <th>First_Name</th>\n",
              "      <th>City</th>\n",
              "      <th>State</th>\n",
              "      <th>Zip</th>\n",
              "      <th>Occupation</th>\n",
              "      <th>Amount</th>\n",
              "      <th>Date</th>\n",
              "      <th>Aggregate_Amount</th>\n",
              "      <th>Cycle</th>\n",
              "      <th>Campaign</th>\n",
              "      <th>Campaign_Type</th>\n",
              "    </tr>\n",
              "    <tr>\n",
              "      <th>Record_id</th>\n",
              "      <th></th>\n",
              "      <th></th>\n",
              "      <th></th>\n",
              "      <th></th>\n",
              "      <th></th>\n",
              "      <th></th>\n",
              "      <th></th>\n",
              "      <th></th>\n",
              "      <th></th>\n",
              "      <th></th>\n",
              "      <th></th>\n",
              "      <th></th>\n",
              "    </tr>\n",
              "  </thead>\n",
              "  <tbody>\n",
              "  </tbody>\n",
              "</table>\n",
              "</div>"
            ],
            "text/plain": [
              "Empty DataFrame\n",
              "Columns: [Flag_Orgind, First_Name, City, State, Zip, Occupation, Amount, Date, Aggregate_Amount, Cycle, Campaign, Campaign_Type]\n",
              "Index: []"
            ]
          },
          "metadata": {
            "tags": []
          },
          "execution_count": 51
        }
      ]
    },
    {
      "cell_type": "markdown",
      "metadata": {
        "id": "7EoMBRxhp0KN"
      },
      "source": [
        "### Confirm Addition of Campaign Types"
      ]
    },
    {
      "cell_type": "code",
      "metadata": {
        "id": "Mdxs5vq_p0KO",
        "outputId": "5bed3e47-b351-4e9e-9b8f-e492c69fd348"
      },
      "source": [
        "cleaned_dataframe[\"Campaign_Type\"].unique()"
      ],
      "execution_count": null,
      "outputs": [
        {
          "output_type": "execute_result",
          "data": {
            "text/plain": [
              "array(['Democratic', 'Republican'], dtype=object)"
            ]
          },
          "metadata": {
            "tags": []
          },
          "execution_count": 52
        }
      ]
    },
    {
      "cell_type": "markdown",
      "metadata": {
        "id": "DxMSht3wp0KU"
      },
      "source": [
        "### Extract Sample From Final Dataframe and Export to CSV"
      ]
    },
    {
      "cell_type": "code",
      "metadata": {
        "id": "osELPrN-p0KV"
      },
      "source": [
        "new_sample_df = cleaned_dataframe.sample(frac = .15)\n",
        "new_sample_df.to_csv(\"new_sample_df.csv\")"
      ],
      "execution_count": null,
      "outputs": []
    },
    {
      "cell_type": "code",
      "metadata": {
        "id": "7cUpA6gop0Kf"
      },
      "source": [
        ""
      ],
      "execution_count": null,
      "outputs": []
    }
  ]
}